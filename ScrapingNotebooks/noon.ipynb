{
 "cells": [
  {
   "cell_type": "code",
   "execution_count": 5,
   "metadata": {},
   "outputs": [],
   "source": [
    "#Dependencies\n",
    "from bs4 import BeautifulSoup\n",
    "from requests_html import AsyncHTMLSession\n"
   ]
  },
  {
   "cell_type": "code",
   "execution_count": 6,
   "metadata": {},
   "outputs": [],
   "source": [
    "#utilts\n",
    "import os\n",
    "import json\n",
    "\n",
    "def printSoupToHtml(soup, filename='soup.html'):\n",
    "    # Creating a file if not exist\n",
    "    if not os.path.exists(filename):\n",
    "        with open(filename, 'w', encoding='utf-8') as file:\n",
    "            file.write('')\n",
    "    with open(filename, 'w', encoding='utf-8') as file:\n",
    "        file.write(str(soup))\n",
    "    return True\n",
    "\n",
    "def printSoupToJson(soup, filename='soup.json'):\n",
    "    # Creating a file if not exist\n",
    "    if not os.path.exists(filename):\n",
    "        with open(filename, 'w', encoding='utf-8') as file:\n",
    "            file.write('')\n",
    "    with open(filename, 'w', encoding='utf-8') as file:\n",
    "        file.write(json.dumps(soup))\n",
    "    return True"
   ]
  },
  {
   "cell_type": "code",
   "execution_count": 7,
   "metadata": {},
   "outputs": [],
   "source": [
    "#Functions\n",
    "async def scrape_noon(url):\n",
    "    # Time Started\n",
    "    import time\n",
    "    start_time = time.time()\n",
    "    # Code\n",
    "    asession = AsyncHTMLSession()\n",
    "    response = await asession.get(url)\n",
    "    soup = BeautifulSoup(response.content, 'html.parser')\n",
    "   # printSoupToHtml(soup, 'noon.html')\n",
    "\n",
    "    # Extracting data\n",
    "    title = soup.find('h1').get_text().strip()\n",
    "    price = soup.find('div', class_='priceNow').get_text().split('.')[0].strip()\n",
    "    rating = soup.find('div', class_='sc-e7071e85-2').get_text().strip()\n",
    "    #.sc-97eb4126-2 li\t> for Description\n",
    "    Discription = soup.find('div', class_='sc-97eb4126-2').get_text().strip()\n",
    "    #end Extracting data\n",
    "\n",
    "    end_time = time.time()\n",
    "    # Time taken\n",
    "    elapsed_time = end_time - start_time\n",
    "    return title, price, rating,Discription, elapsed_time\n"
   ]
  },
  {
   "cell_type": "code",
   "execution_count": 8,
   "metadata": {},
   "outputs": [],
   "source": [
    "async def scrape_noon_images(url):\n",
    "    asession = AsyncHTMLSession()\n",
    "    response = await asession.get(url)\n",
    "    soup = BeautifulSoup(response.content, 'html.parser')\n",
    "    result= soup.select('img')\n",
    "    #fillter src\n",
    "    img=[]\n",
    "    for i in result:\n",
    "        # add only src that contain &width\n",
    "        if \"&width\" in i['src']:\n",
    "            img.append(i['src'])\n",
    "    return img\n"
   ]
  },
  {
   "cell_type": "code",
   "execution_count": 10,
   "metadata": {},
   "outputs": [
    {
     "name": "stdout",
     "output_type": "stream",
     "text": [
      "('آي باد 2021 (الجيل التاسع) مقاس 10.2 بوصة بذاكرة داخلية 256 جيجابايت وتقنية واي فاي مع تطبيق فيس تايم، بلون رمادي فلكي - إصدار عالمي', '1595', '4.7', 'الميزات الأساسيةشريحة A13 بيونيك توفر المزيد من الاستجابة لكل شيء، من إرسال الرسائل إلى تصفح الويب واستخدام تطبيقات متعددة في وقت واحدوحدة معالجة رسومات أسرع بنسبة تصل إلى 20% توفر لك أداء الرسومات الذي تحتاجه. مثالية للألعاب الغامرة وغير ذلك المزيدمميزات أقوى من خلال محرك المعالجة العصبونية للتعلم الآلي مثل لايف تكست في نظام تشغيل  iPadOS 15تشغل شريحة A13 بيونيك بسهولة التطبيقات المتقدمة مثل أدوبي فريسكو وبروكرييتجهاز الآي باد جاهز لاستخدامه في العمل أو اللعب طوال الفترة التي تحتاجها، بفضل عمر البطارية التي تدوم طوال اليوم', 0.977466344833374)\n"
     ]
    }
   ],
   "source": [
    "#Test\n",
    "url = 'https://www.noon.com/saudi-ar/ipad-2021-9th-generation-10-2-inch-256gb-wifi-space-gray-with-facetime-international-version/N50863791A/p/?o=fcb818829580d36f'\n",
    "print(await scrape_noon(url))"
   ]
  }
 ],
 "metadata": {
  "kernelspec": {
   "display_name": "Python 3",
   "language": "python",
   "name": "python3"
  },
  "language_info": {
   "codemirror_mode": {
    "name": "ipython",
    "version": 3
   },
   "file_extension": ".py",
   "mimetype": "text/x-python",
   "name": "python",
   "nbconvert_exporter": "python",
   "pygments_lexer": "ipython3",
   "version": "3.8.5"
  }
 },
 "nbformat": 4,
 "nbformat_minor": 2
}
