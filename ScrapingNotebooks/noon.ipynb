{
 "cells": [
  {
   "cell_type": "code",
   "execution_count": 2,
   "metadata": {},
   "outputs": [],
   "source": [
    "#Dependencies\n",
    "from bs4 import BeautifulSoup\n",
    "from requests_html import AsyncHTMLSession\n"
   ]
  },
  {
   "cell_type": "code",
   "execution_count": 26,
   "metadata": {},
   "outputs": [],
   "source": [
    "#Functions\n",
    "async def scrape_noon(url):\n",
    "    # Time Started\n",
    "    import time\n",
    "    start_time = time.time()\n",
    "    # Code\n",
    "    asession = AsyncHTMLSession()\n",
    "    response = await asession.get(url)\n",
    "    soup = BeautifulSoup(response.content, 'html.parser')\n",
    "\n",
    "    # Extracting data\n",
    "    title = soup.find('h1').get_text().strip()\n",
    "    price = soup.find('div', class_='priceNow').get_text().split('.')[0].strip()\n",
    "    rating = soup.find('div', class_='sc-e7071e85-2').get_text().strip()\n",
    "    #.sc-97eb4126-2 li\t> for Description\n",
    "    Discription = soup.find('div', class_='sc-97eb4126-2').get_text().strip()\n",
    "    #end Extracting data\n",
    "\n",
    "    end_time = time.time()\n",
    "    # Time taken\n",
    "    elapsed_time = end_time - start_time\n",
    "    return title, price, rating,Discription, elapsed_time\n"
   ]
  },
  {
   "cell_type": "code",
   "execution_count": 89,
   "metadata": {},
   "outputs": [],
   "source": [
    "async def scrape_noon_images(url):\n",
    "    asession = AsyncHTMLSession()\n",
    "    response = await asession.get(url)\n",
    "    soup = BeautifulSoup(response.content, 'html.parser')\n",
    "    result= soup.select('img')\n",
    "    #fillter src\n",
    "    img=[]\n",
    "    for i in result:\n",
    "        # add only src that contain &width\n",
    "        if \"&width\" in i['src']:\n",
    "            img.append(i['src'])\n",
    "    return img\n"
   ]
  },
  {
   "cell_type": "code",
   "execution_count": 90,
   "metadata": {},
   "outputs": [
    {
     "name": "stdout",
     "output_type": "stream",
     "text": [
      "['https://f.nooncdn.com/p/pnsku/N53432479A/45/_/1694762196/41851adf-464e-4d18-ac48-b8647ab2600b.jpg?format=jpg&width=240', 'https://f.nooncdn.com/p/pnsku/N53432493A/45/_/1694762141/b2ee3ac8-6f63-4829-a50e-635506aa09b7.jpg?format=jpg&width=240', 'https://f.nooncdn.com/p/pnsku/N53432547A/45/_/1694762192/fd45d583-8af9-4ff3-8032-af4a5a3c553c.jpg?format=jpg&width=240', 'https://f.nooncdn.com/p/pnsku/N53432591A/45/_/1694762153/a427f668-a7f9-4be4-b633-58f6bf8ccc6d.jpg?format=jpg&width=240']\n",
      "None\n"
     ]
    }
   ],
   "source": [
    "#Test\n",
    "url = 'https://www.noon.com/saudi-ar/iphone-15-pro-max-256gb-natural-titanium-5g-with-facetime-middle-east-version/N53432547A/p/?o=b693a3ec8486f04bn.com/es'\n",
    "print(await scrape_noon(url))"
   ]
  }
 ],
 "metadata": {
  "kernelspec": {
   "display_name": "Python 3",
   "language": "python",
   "name": "python3"
  },
  "language_info": {
   "codemirror_mode": {
    "name": "ipython",
    "version": 3
   },
   "file_extension": ".py",
   "mimetype": "text/x-python",
   "name": "python",
   "nbconvert_exporter": "python",
   "pygments_lexer": "ipython3",
   "version": "3.8.5"
  }
 },
 "nbformat": 4,
 "nbformat_minor": 2
}
