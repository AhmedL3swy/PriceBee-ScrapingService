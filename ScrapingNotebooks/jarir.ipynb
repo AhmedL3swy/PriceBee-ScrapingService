{
 "cells": [
  {
   "cell_type": "code",
   "execution_count": 9,
   "metadata": {},
   "outputs": [
    {
     "name": "stdout",
     "output_type": "stream",
     "text": [
      "ProductDetailDTO(prod_id=0, domainId=1, productlink1=https://www.jarir.com/sa-en/default-category/msi-clae-a1m-gaming-consoles-and-handheld-631416.html, status=, lastUpdated=2024-06-21 20:08:51.903693, lastScraped=2024-06-21 20:08:51.903693, id=0, name_Local=, name_Global=MSI Claw A1M Handheld Gaming Console, Intel Core Ultra 7 Processor, 512 GB, Black, description_Local=, description_Global=None, price=3799, rating=None, is_available=True, brand=, images=['https://ak-asset.jarir.com/akeneo-prod/asset/b/b/c/c/bbcc8c1c12a995f33ba9a9b8ab7c365703114777_631416.jpg', 'https://ak-asset.jarir.com/akeneo-prod/asset/f/4/f/e/f4fedbefb6cb954f43d7f6125bdbe259d7cf4d07_631416_1.jpg', 'https://ak-asset.jarir.com/akeneo-prod/asset/1/f/6/0/1f60183c0fc8f48082251e64b74fcc4dc7c74378_631416_2.jpg', 'https://ak-asset.jarir.com/akeneo-prod/asset/7/2/c/b/72cb5a45081b0696c661de124c2e0bb4758f2128_631416_3.jpg', 'https://ak-asset.jarir.com/akeneo-prod/asset/5/3/8/6/5386b16272b56e1c79cb085f7afc2167dacc6308_631416_4.jpg'])\n"
     ]
    }
   ],
   "source": [
    "import json\n",
    "from requests_html import AsyncHTMLSession\n",
    "from utils import getStringBetweenTwoWords\n",
    "from utils import extract_and_stringify_object , printJsonToFile\n",
    "from Product import ProductDetailDTO\n",
    "#rewrite scrape_Jarir_full function with the object extraction \n",
    "async def scrape_Jarir_full(url):  \n",
    "    # session = AsyncHTMLSession()\n",
    "    # response = await session.get(url)\n",
    "    # soup=response.content.decode()\n",
    "    # stringObj = getStringBetweenTwoWords(soup, 'original:', ',related').replace('!1', 'true').replace('!0', 'false')\n",
    "    # obj = json.loads(extract_and_stringify_object(stringObj))\n",
    "    #load the json from the file jarir.json\n",
    "    obj = json.load(open(\"jarir.json\"))\n",
    "    printJsonToFile(obj, \"jarir.json\")\n",
    "    name_global = obj.get(\"name\", \"\")\n",
    "    isAvailable = obj.get(\"check_availability_status\", 0) == 1\n",
    "    PriceAfterDiscount = obj.get(\"final_price\", obj.get(\"price\", None))\n",
    "    description = obj.get(\"description\", obj.get(\"short_description\", \"\"))\n",
    "    rating = None  \n",
    "    images = [\"https://ak-asset.jarir.com/akeneo-prod/asset/\"+image[\"image\"] for image in obj.get(\"media_gallery\", []) if image.get(\"type\") == \"image\"]\n",
    "    item_data = ProductDetailDTO(name_Global=name_global, price=PriceAfterDiscount,images=images,productlink1=url,description_Global=description,is_available=isAvailable,rating=rating)\n",
    "    return item_data\n",
    "#Test\n",
    "url = 'https://www.jarir.com/sa-en/default-category/msi-clae-a1m-gaming-consoles-and-handheld-631416.html'\n",
    "x=await scrape_Jarir_full(url)\n",
    "#print it when Finish\n",
    "print(x)\n",
    "\n"
   ]
  },
  {
   "cell_type": "code",
   "execution_count": null,
   "metadata": {},
   "outputs": [],
   "source": []
  },
  {
   "cell_type": "code",
   "execution_count": 2,
   "metadata": {},
   "outputs": [],
   "source": [
    "# from requests_html import AsyncHTMLSession\n",
    "# from utils import getStringBetweenTwoWords\n",
    "# from Product import ProductDetailDTO\n",
    "\n",
    "# async def scrape_Jarir_full(url):  \n",
    "#     session = AsyncHTMLSession()\n",
    "#     response = await session.get(url)\n",
    "#     script_target_object=getStringBetweenTwoWords(response.content.decode(), 'window.__INITIAL_STATE__= ','</script>')\n",
    "#     strat_index=response.content.decode().index('window.__INITIAL_STATE__')\n",
    "#     end_index=response.content.decode().index('</script>',strat_index)\n",
    "#     script_target_object=response.content.decode()[strat_index:end_index].replace('window.__INITIAL_STATE__=','')\n",
    "#     price=getStringBetweenTwoWords(script_target_object, 'final_price_ex_tax:',',')\n",
    "#     Title=getStringBetweenTwoWords(script_target_object, 'GTM_name:',',')\n",
    "#     images_string = getStringBetweenTwoWords(script_target_object, 'media_gallery','tsk').split(\"},{\")\n",
    "#     images=[]\n",
    "#     for i in range(len(images_string)):\n",
    "#         images.append(\"https://ak-asset.jarir.com/akeneo-prod/asset/\"+getStringBetweenTwoWords(images_string[i], 'image:\"','\",lab'))\n",
    "#     item_data = ProductDetailDTO(name_Global=Title, price=price,images=images,productlink1=url)\n",
    "#     return item_data\n",
    "\n",
    "# #Test\n",
    "# url = 'https://www.jarir.com/sa-en/default-category/msi-clae-a1m-gaming-consoles-and-handheld-631416.html'\n",
    "# x=await scrape_Jarir_full(url)\n",
    "# print(x.__dict__)\n"
   ]
  }
 ],
 "metadata": {
  "kernelspec": {
   "display_name": "Python 3",
   "language": "python",
   "name": "python3"
  },
  "language_info": {
   "codemirror_mode": {
    "name": "ipython",
    "version": 3
   },
   "file_extension": ".py",
   "mimetype": "text/x-python",
   "name": "python",
   "nbconvert_exporter": "python",
   "pygments_lexer": "ipython3",
   "version": "3.8.5"
  }
 },
 "nbformat": 4,
 "nbformat_minor": 2
}
