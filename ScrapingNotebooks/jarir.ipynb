{
 "cells": [
  {
   "cell_type": "code",
   "execution_count": 10,
   "metadata": {},
   "outputs": [
    {
     "name": "stdout",
     "output_type": "stream",
     "text": [
      "name_global: Samsung 55\" Smart TV, 4K OLED, OLED, Graphite Black, QA55S90DAUXSA\n",
      "name_local: Samsung 55\" Smart TV, 4K OLED, OLED, Graphite Black, QA55S90DAUXSA\n",
      "isAvailable: True\n",
      "price: 6433.913\n",
      "rating: None\n",
      "description: ': 1, 'acce': 'AV Cable/Sound Bar/Home Theater/Wireless/Screen Cleaning Kit/Cleaning Wipes', 'cofa': 'Black', 'core': 'NQ4 AI Gen2', 'cote': 'Bluetooth/WiFi/Wireless', 'diba': 'OLED', 'enco': 'Graphite Black', 'gest': '144 Hz', 'hdmi': '4 Port HDMI', 'hdrf': 'HDR+', 'mxrs': '3840 X 2160p', 'opsy': 'Tizen 2.0', 'poso': '100 - 240 Volts', 'ptyp': 'Smart TV', 'scsz': '55\"', 'scty': '4K OLED', 'seri': 'Samsung Series 9', 'spin': '2.1CH (40W)', 'tdsu': 'n/a', 'touc': 'n/a'\n",
      "Description_Local: \n",
      "images: ['https://ak-asset.jarir.com/akeneo-prod/asset/a/0/7/8/a07812e89c9b053151055c4f59b4464632bcadd6_632865.jpg', 'https://ak-asset.jarir.com/akeneo-prod/asset/4/4/6/7/4467c368e2c7b81b83c7893795da388d4dbacd57_632865_1.jpg', 'https://ak-asset.jarir.com/akeneo-prod/asset/d/1/e/d/d1ed86ca40b56d16961cf087a42f1776d3ea6aac_632865_2.jpg']\n"
     ]
    }
   ],
   "source": [
    "import json\n",
    "from requests_html import AsyncHTMLSession\n",
    "from utils import getStringBetweenTwoWords, extract_and_stringify_object , printJsonToFile,printSoupToHtml\n",
    "from Product import ProductDetailDTO\n",
    "#rewrite scrape_Jarir_full function with the object extraction \n",
    "async def scrape_Jarir_full(url):  \n",
    "    session = AsyncHTMLSession()\n",
    "    response = await session.get(url)\n",
    "    soup=response.content.decode()\n",
    "    printSoupToHtml(soup, \"jarir.html\")\n",
    "    stringObj = getStringBetweenTwoWords(soup, 'original:', ',related').replace('!1', 'true').replace('!0', 'false')\n",
    "    obj = json.loads(extract_and_stringify_object(stringObj))\n",
    "    #load the json from the file jarir.json\n",
    "    #obj = json.load(open(\"jarir.json\"))    \n",
    "    # Extracting the values from the specs string\n",
    "    specs = getStringBetweenTwoWords(str(obj), 'homedelivery_enable', 'check_availability_status')\n",
    "    specs_list = [spec.strip() for spec in specs.split(',') if \":\" in spec]\n",
    "    concatenated_specs = ', '.join(specs_list)\n",
    "\n",
    "    printJsonToFile(obj, \"jarir.json\")\n",
    "    name_Local = obj.get(\"name\", \"\")\n",
    "    name_global = obj.get(\"GTM_name\", \"\")\n",
    "    isAvailable = obj.get(\"check_availability_status\", 0) == 1\n",
    "    PriceAfterDiscount = obj.get(\"final_price_ex_tax\", obj.get(\"price\", None))\n",
    "    rating = None  \n",
    "    \n",
    "    images = [\"https://ak-asset.jarir.com/akeneo-prod/asset/\"+image[\"image\"] for image in obj.get(\"media_gallery\", []) if image.get(\"type\") == \"image\"]\n",
    "    item_data = ProductDetailDTO(name_Global=name_global,name_Local=name_Local, price=PriceAfterDiscount,images=images,productlink1=url,description_Global=concatenated_specs,is_available=isAvailable,rating=rating)\n",
    "    return item_data\n",
    "#Test\n",
    "url = 'https://www.jarir.com/sa-en/en-sa/samsung-qa55s90dauxsa-smart-tv-632865.html?country=eg'\n",
    "x=await scrape_Jarir_full(url)\n",
    "print(\"name_global:\",x.name_Global)\n",
    "print(\"name_local:\",x.name_Local)\n",
    "print(\"isAvailable:\",x.is_available)    \n",
    "print(\"price:\",x.price)\n",
    "print(\"rating:\",x.rating)\n",
    "print(\"description:\",x.description_Global)\n",
    "print(\"Description_Local:\",x.description_Local)\n",
    "print(\"images:\",x.images)\n",
    "\n"
   ]
  },
  {
   "cell_type": "code",
   "execution_count": 2,
   "metadata": {},
   "outputs": [],
   "source": [
    "# from requests_html import AsyncHTMLSession\n",
    "# from utils import getStringBetweenTwoWords\n",
    "# from Product import ProductDetailDTO\n",
    "\n",
    "# async def scrape_Jarir_full(url):  \n",
    "#     session = AsyncHTMLSession()\n",
    "#     response = await session.get(url)\n",
    "#     script_target_object=getStringBetweenTwoWords(response.content.decode(), 'window.__INITIAL_STATE__= ','</script>')\n",
    "#     strat_index=response.content.decode().index('window.__INITIAL_STATE__')\n",
    "#     end_index=response.content.decode().index('</script>',strat_index)\n",
    "#     script_target_object=response.content.decode()[strat_index:end_index].replace('window.__INITIAL_STATE__=','')\n",
    "#     price=getStringBetweenTwoWords(script_target_object, 'final_price_ex_tax:',',')\n",
    "#     Title=getStringBetweenTwoWords(script_target_object, 'GTM_name:',',')\n",
    "#     images_string = getStringBetweenTwoWords(script_target_object, 'media_gallery','tsk').split(\"},{\")\n",
    "#     images=[]\n",
    "#     for i in range(len(images_string)):\n",
    "#         images.append(\"https://ak-asset.jarir.com/akeneo-prod/asset/\"+getStringBetweenTwoWords(images_string[i], 'image:\"','\",lab'))\n",
    "#     item_data = ProductDetailDTO(name_Global=Title, price=price,images=images,productlink1=url)\n",
    "#     return item_data\n",
    "\n",
    "# #Test\n",
    "# url = 'https://www.jarir.com/sa-en/default-category/msi-clae-a1m-gaming-consoles-and-handheld-631416.html'\n",
    "# x=await scrape_Jarir_full(url)\n",
    "# print(x.__dict__)\n"
   ]
  }
 ],
 "metadata": {
  "kernelspec": {
   "display_name": "Python 3",
   "language": "python",
   "name": "python3"
  },
  "language_info": {
   "codemirror_mode": {
    "name": "ipython",
    "version": 3
   },
   "file_extension": ".py",
   "mimetype": "text/x-python",
   "name": "python",
   "nbconvert_exporter": "python",
   "pygments_lexer": "ipython3",
   "version": "3.12.1"
  }
 },
 "nbformat": 4,
 "nbformat_minor": 2
}
