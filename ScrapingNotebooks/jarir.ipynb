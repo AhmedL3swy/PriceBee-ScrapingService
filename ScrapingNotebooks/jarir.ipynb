{
 "cells": [
  {
   "cell_type": "code",
   "execution_count": 1,
   "metadata": {},
   "outputs": [],
   "source": [
    "#Dependencies\n",
    "from bs4 import BeautifulSoup\n",
    "from requests_html import AsyncHTMLSession\n",
    "from lxml import etree\n",
    "from requests_html import HTML\n",
    "\n"
   ]
  },
  {
   "cell_type": "code",
   "execution_count": 2,
   "metadata": {},
   "outputs": [],
   "source": [
    "#utilts\n",
    "import os\n",
    "import json\n",
    "\n",
    "def printSoupToHtml(soup, filename='soup.html'):\n",
    "    # Creating a file if not exist\n",
    "    if not os.path.exists(filename):\n",
    "        with open(filename, 'w', encoding='utf-8') as file:\n",
    "            file.write('')\n",
    "    with open(filename, 'w', encoding='utf-8') as file:\n",
    "        file.write(str(soup))\n",
    "    return True\n",
    "\n",
    "def printSoupToJson(soup, filename='soup.json'):\n",
    "    # Creating a file if not exist\n",
    "    if not os.path.exists(filename):\n",
    "        with open(filename, 'w', encoding='utf-8') as file:\n",
    "            file.write('')\n",
    "    with open(filename, 'w', encoding='utf-8') as file:\n",
    "        file.write(json.dumps(soup))\n",
    "    return True"
   ]
  },
  {
   "cell_type": "code",
   "execution_count": 3,
   "metadata": {},
   "outputs": [],
   "source": [
    "import  json5 ,json\n",
    "\n",
    "def getStringBetweenTwoWords(string, first, last):\n",
    "    try:\n",
    "        start = string.index(first) + len(first)\n",
    "        end = string.index(last, start)\n",
    "        return string[start:end]\n",
    "    except ValueError:\n",
    "        return \"\"\n",
    "def convertStringToJson(string):\n",
    "    x = json.dumps(string)\n",
    "    printSoupToJson(x)\n",
    "\n",
    "def extract_and_stringify_object(original):\n",
    "    for i in range(0, len(original)):\n",
    "        if original[i] == '{':\n",
    "            start = i\n",
    "            break\n",
    "    for i in range(len(original) - 1, -1, -1):\n",
    "        if original[i] == '}':\n",
    "            end = i\n",
    "            break  \n",
    "    if end < len(original) - 1 and original[end + 1] != ',':\n",
    "        original = original[:end + 1] + ',' + original[end + 1:]\n",
    "    return json.dumps(json5.loads(original[start:end + 1]), indent=4)\n",
    "\n",
    "def getJsonBetweenTwoWords(string, first, last):\n",
    "    try:\n",
    "        start = string.index(first) + len(first)\n",
    "        end = string.index(last, start)\n",
    "        return extract_and_stringify_object(string[start:end])\n",
    "    except ValueError:\n",
    "        return \"\"\n",
    "async def scrapeJarir(url):  \n",
    "    session = AsyncHTMLSession()\n",
    "    response = await session.get(url)\n",
    "    printSoupToHtml(response.content.decode(),\"jarir.html\")\n",
    "    script_target_object=getStringBetweenTwoWords(response.content.decode(), 'window.__INITIAL_STATE__= ','</script>')\n",
    "    strat_index=response.content.decode().index('window.__INITIAL_STATE__')\n",
    "    end_index=response.content.decode().index('</script>',strat_index)\n",
    "    script_target_object=response.content.decode()[strat_index:end_index].replace('window.__INITIAL_STATE__=','')\n",
    "    printSoupToHtml(script_target_object)\n",
    "    price=getStringBetweenTwoWords(script_target_object, 'final_price_ex_tax:',',')\n",
    "    Title=getStringBetweenTwoWords(script_target_object, 'GTM_name:',',')\n",
    "    images_string = getStringBetweenTwoWords(script_target_object, 'media_gallery','tsk').split(\"},{\")\n",
    "    #[{type:\"image\",image:\"b/b/c/c/bbcc8c1c12a995f33ba9a9b8ab7c365703114777_631416.jpg\",lab:\"\",pos:0},{type:\"image\",image:\"f/4/f/e/f4fedbefb6cb954f43d7f6125bdbe259d7cf4d07_631416_1.jpg\",lab:\"\",pos:1},{type:\"image\",image:\"1/f/6/0/1f60183c0fc8f48082251e64b74fcc4dc7c74378_631416_2.jpg\",lab:\"\",pos:2},{type:\"image\",image:\"7/2/c/b/72cb5a45081b0696c661de124c2e0bb4758f2128_631416_3.jpg\",lab:\"\",pos:3},{type:\"image\",image:\"5/3/8/6/5386b16272b56e1c79cb085f7afc2167dacc6308_631416_4.jpg\",lab:\"\",pos:4}],')\n",
    "    images=[]\n",
    "    for i in range(len(images_string)):\n",
    "        images.append(getStringBetweenTwoWords(images_string[i], 'image:\"','\",lab'))\n",
    "    return price , Title,images\n"
   ]
  },
  {
   "cell_type": "code",
   "execution_count": 4,
   "metadata": {},
   "outputs": [
    {
     "name": "stdout",
     "output_type": "stream",
     "text": [
      "('2955.6522', '\"MSI Claw A1M Handheld Gaming Console', ['b/b/c/c/bbcc8c1c12a995f33ba9a9b8ab7c365703114777_631416.jpg', 'f/4/f/e/f4fedbefb6cb954f43d7f6125bdbe259d7cf4d07_631416_1.jpg', '1/f/6/0/1f60183c0fc8f48082251e64b74fcc4dc7c74378_631416_2.jpg', '7/2/c/b/72cb5a45081b0696c661de124c2e0bb4758f2128_631416_3.jpg', '5/3/8/6/5386b16272b56e1c79cb085f7afc2167dacc6308_631416_4.jpg'])\n"
     ]
    }
   ],
   "source": [
    "#Test\n",
    "url = 'https://www.jarir.com/sa-en/default-category/msi-clae-a1m-gaming-consoles-and-handheld-631416.html'\n",
    "print( await scrapeJarir(url))"
   ]
  },
  {
   "cell_type": "code",
   "execution_count": 5,
   "metadata": {},
   "outputs": [],
   "source": [
    "# with open('jarir.html', 'r', encoding='utf-8') as file:\n",
    "#     soup = BeautifulSoup(file, 'html.parser')\n",
    "# printSoupToHtml(soup.prettify(), 'jarir_pretty.html')\n"
   ]
  },
  {
   "cell_type": "code",
   "execution_count": 6,
   "metadata": {},
   "outputs": [
    {
     "name": "stdout",
     "output_type": "stream",
     "text": [
      "‎انثروبولوجيا البطل في فلسفة التاريخ‎ True 11 default None ['8/6/6/6/866662d865334ab231a0156cca47189d8f30a889_613657.jpg', '6/2/9/7/62974938ff544b8c5cbaef5d0a07c3c0759bb253_613657_1.jpg']\n"
     ]
    }
   ],
   "source": [
    "import json\n",
    "\n",
    "\n",
    "# with open('jarir.html', 'r', encoding='utf-8') as file:\n",
    "# #     soup = file.read()\n",
    "#     stringObj = getStringBetweenTwoWords(soup, 'original:', ',related').replace('!1', 'true').replace('!0', 'false')\n",
    "session = AsyncHTMLSession()\n",
    "response = await session.get('https://www.jarir.com/ae-ar/arabic-books-613657.html')\n",
    "soup=response.content.decode()\n",
    "#printSoupToHtml(soup,\"jarir.html\")\n",
    "stringObj = getStringBetweenTwoWords(soup, 'original:', ',related').replace('!1', 'true').replace('!0', 'false')\n",
    "\n",
    "\n",
    "obj = json.loads(extract_and_stringify_object(stringObj))\n",
    "#printSoupToJson(obj, 'jarir.json')\n",
    "# name_local = \" \".join([\n",
    "#     obj.get(\"arabicname_field1\", \"\"),\n",
    "#     obj.get(\"arabicname_field2\", \"\"),\n",
    "#     obj.get(\"arabicname_field3\", \"\"),\n",
    "#     obj.get(\"arabicname_field4\", \"\"),\n",
    "#     obj.get(\"arabicname_field5\", \"\"),\n",
    "#     obj.get(\"arabicname_field6\", \"\"),\n",
    "# ]).strip()\n",
    "\n",
    "name_global = obj.get(\"name\", \"\")\n",
    "isAvailable = obj.get(\"check_availability_status\", 0) == 1\n",
    "PriceAfterDiscount = obj.get(\"final_price\", obj.get(\"price\", None))\n",
    "description = obj.get(\"description\", obj.get(\"short_description\", \"\"))\n",
    "rating = None  # Assuming rating information is not available in the provided JSON\n",
    "images = [image[\"image\"] for image in obj.get(\"media_gallery\", []) if image.get(\"type\") == \"image\"]\n",
    "print(name_global, isAvailable, PriceAfterDiscount, description, rating, images)\n"
   ]
  }
 ],
 "metadata": {
  "kernelspec": {
   "display_name": "Python 3",
   "language": "python",
   "name": "python3"
  },
  "language_info": {
   "codemirror_mode": {
    "name": "ipython",
    "version": 3
   },
   "file_extension": ".py",
   "mimetype": "text/x-python",
   "name": "python",
   "nbconvert_exporter": "python",
   "pygments_lexer": "ipython3",
   "version": "3.8.5"
  }
 },
 "nbformat": 4,
 "nbformat_minor": 2
}
