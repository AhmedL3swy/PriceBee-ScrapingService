{
 "cells": [
  {
   "cell_type": "code",
   "execution_count": 5,
   "metadata": {},
   "outputs": [],
   "source": [
    "#Dependencies\n",
    "from bs4 import BeautifulSoup\n",
    "from requests_html import AsyncHTMLSession\n",
    "from lxml import etree\n",
    "from requests_html import HTML\n",
    "\n"
   ]
  },
  {
   "cell_type": "code",
   "execution_count": 2,
   "metadata": {},
   "outputs": [],
   "source": [
    "#utilts\n",
    "import os\n",
    "import json\n",
    "def printSoupToHtml(soup):\n",
    "    #Creating a file if not exist\n",
    "    if not os.path.exists('soup.html'):\n",
    "        with open('soup.html', 'w', encoding='utf-8') as file:\n",
    "            file.write('')\n",
    "    with open('soup.html', 'w', encoding='utf-8') as file:\n",
    "        file.write(str(soup))\n",
    "    return True\n",
    "def printSoupToJson(soup):\n",
    "    #Creating a file if not exist\n",
    "    if not os.path.exists('soup.json'):\n",
    "        with open('soup.json', 'w', encoding='utf-8') as file:\n",
    "            file.write('')\n",
    "    with open('soup.json', 'w', encoding='utf-8') as file:\n",
    "        file.write(json.dumps(soup))\n",
    "    return True"
   ]
  },
  {
   "cell_type": "code",
   "execution_count": 53,
   "metadata": {},
   "outputs": [],
   "source": [
    "\n",
    "def getStringBetweenTwoWords(string, first, last):\n",
    "    try:\n",
    "        start = string.index(first) + len(first)\n",
    "        end = string.index(last, start)\n",
    "        return string[start:end]\n",
    "    except ValueError:\n",
    "        return \"\"\n",
    "def convertStringToJson(string):\n",
    "    x = json.dumps(string)\n",
    "    printSoupToJson(x)\n",
    "\n",
    "async def scrapeJarir(url):  \n",
    "    session = AsyncHTMLSession()\n",
    "    response = await session.get(url)\n",
    "    script_target_object=getStringBetweenTwoWords(response.content.decode(), 'window.__INITIAL_STATE__= ','</script>')\n",
    "    strat_index=response.content.decode().index('window.__INITIAL_STATE__')\n",
    "    end_index=response.content.decode().index('</script>',strat_index)\n",
    "    script_target_object=response.content.decode()[strat_index:end_index].replace('window.__INITIAL_STATE__=','')\n",
    "    printSoupToHtml(script_target_object)\n",
    "    price=getStringBetweenTwoWords(script_target_object, 'final_price_ex_tax:',',')\n",
    "    Title=getStringBetweenTwoWords(script_target_object, 'GTM_name:',',')\n",
    "    images_string = getStringBetweenTwoWords(script_target_object, 'media_gallery','tsk').split(\"},{\")\n",
    "    #[{type:\"image\",image:\"b/b/c/c/bbcc8c1c12a995f33ba9a9b8ab7c365703114777_631416.jpg\",lab:\"\",pos:0},{type:\"image\",image:\"f/4/f/e/f4fedbefb6cb954f43d7f6125bdbe259d7cf4d07_631416_1.jpg\",lab:\"\",pos:1},{type:\"image\",image:\"1/f/6/0/1f60183c0fc8f48082251e64b74fcc4dc7c74378_631416_2.jpg\",lab:\"\",pos:2},{type:\"image\",image:\"7/2/c/b/72cb5a45081b0696c661de124c2e0bb4758f2128_631416_3.jpg\",lab:\"\",pos:3},{type:\"image\",image:\"5/3/8/6/5386b16272b56e1c79cb085f7afc2167dacc6308_631416_4.jpg\",lab:\"\",pos:4}],')\n",
    "    images=[]\n",
    "    for i in range(len(images_string)):\n",
    "        images.append(getStringBetweenTwoWords(images_string[i], 'image:\"','\",lab'))\n",
    "    return price , Title,images\n"
   ]
  },
  {
   "cell_type": "code",
   "execution_count": 54,
   "metadata": {},
   "outputs": [
    {
     "name": "stdout",
     "output_type": "stream",
     "text": [
      "('3303.4783', '\"MSI Claw A1M Handheld Gaming Console', ['b/b/c/c/bbcc8c1c12a995f33ba9a9b8ab7c365703114777_631416.jpg', 'f/4/f/e/f4fedbefb6cb954f43d7f6125bdbe259d7cf4d07_631416_1.jpg', '1/f/6/0/1f60183c0fc8f48082251e64b74fcc4dc7c74378_631416_2.jpg', '7/2/c/b/72cb5a45081b0696c661de124c2e0bb4758f2128_631416_3.jpg', '5/3/8/6/5386b16272b56e1c79cb085f7afc2167dacc6308_631416_4.jpg'])\n"
     ]
    }
   ],
   "source": [
    "#Test\n",
    "url = 'https://www.jarir.com/sa-en/default-category/msi-clae-a1m-gaming-consoles-and-handheld-631416.html'\n",
    "print( await scrapeJarir(url))"
   ]
  }
 ],
 "metadata": {
  "kernelspec": {
   "display_name": "Python 3",
   "language": "python",
   "name": "python3"
  },
  "language_info": {
   "codemirror_mode": {
    "name": "ipython",
    "version": 3
   },
   "file_extension": ".py",
   "mimetype": "text/x-python",
   "name": "python",
   "nbconvert_exporter": "python",
   "pygments_lexer": "ipython3",
   "version": "3.8.5"
  }
 },
 "nbformat": 4,
 "nbformat_minor": 2
}
