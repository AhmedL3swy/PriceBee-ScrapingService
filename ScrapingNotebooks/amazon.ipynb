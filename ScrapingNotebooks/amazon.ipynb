{
 "cells": [
  {
   "cell_type": "code",
   "execution_count": 1,
   "metadata": {},
   "outputs": [],
   "source": [
    "#Dependencies\n",
    "from bs4 import BeautifulSoup\n",
    "import requests"
   ]
  },
  {
   "cell_type": "code",
   "execution_count": 2,
   "metadata": {},
   "outputs": [],
   "source": [
    "import os,json\n",
    "def printSoupToHtml(soup, filename='soup.html'):\n",
    "    # Creating a file if not exist\n",
    "    if not os.path.exists(filename):\n",
    "        with open(filename, 'w', encoding='utf-8') as file:\n",
    "            file.write('')\n",
    "    with open(filename, 'w', encoding='utf-8') as file:\n",
    "        file.write(str(soup))\n",
    "    return True\n",
    "\n",
    "def printSoupToJson(soup, filename='soup.json'):\n",
    "    # Creating a file if not exist\n",
    "    if not os.path.exists(filename):\n",
    "        with open(filename, 'w', encoding='utf-8') as file:\n",
    "            file.write('')\n",
    "    with open(filename, 'w', encoding='utf-8') as file:\n",
    "        file.write(json.dumps(soup))\n",
    "    return True"
   ]
  },
  {
   "cell_type": "code",
   "execution_count": 23,
   "metadata": {},
   "outputs": [],
   "source": [
    "#Functions\n",
    "async def scrapeAmazon(url):\n",
    "    cookies = { 'sp-cdn': 'L5Z9:SA' }\n",
    "    with open('amazon.html', 'r', encoding='utf-8') as file:\n",
    "        #soup from the file \n",
    "        soup = BeautifulSoup(file, 'html.parser')\n",
    " \n",
    "    # response = requests.get(url, cookies=cookies)\n",
    "    # soup = BeautifulSoup(response.content, 'html.parser')\n",
    "    \n",
    "        \n",
    "    # set sp-cdn=\"L5Z9:SA\"; Cokkie\n",
    "    #printSoupToHtml(soup, 'amazon.html')\n",
    "    #Data\n",
    "    price = soup.select_one('div.cardRoot').get_text().strip()\n",
    "    title = soup.select_one('span.a-size-large').get_text().strip()\n",
    "    rating = soup.select_one('#averageCustomerReviews_feature_div span.a-color-base').get_text().strip()\n",
    "    discription = soup.select_one('table.a-spacing-micro').get_text().strip()\n",
    "    return  price,title, rating , discription"
   ]
  },
  {
   "cell_type": "code",
   "execution_count": 24,
   "metadata": {},
   "outputs": [
    {
     "name": "stdout",
     "output_type": "stream",
     "text": [
      "('Frequently bought together  This item:  Sony WH-1000XM5 The Best Wireless Noise Canceling Headphones with Auto Noise Canceling Optimizer, Crystal Clear Hands-Free Calling, and Alexa Voice Control, Black $328.00$328.00Get it as soon as Tuesday, May 28In StockShips from and sold by Amazon.com.+WC SweatZ XM5 - Protective Headphone Ear Covers for Sony WH1000XM5 by WC | Only Compatible with Sony XM5 Over Ear Headphones | Sweatproof & Easily Washable | Black$20.95$20.95Get it as soon as Tuesday, May 28In StockSold by Wicked Cushions US and ships from Amazon Fulfillment.+Silicone Case for Sony WH-1000XM5, Sony xm5 Wireless Headphones Protective case Cover,Black$9.99$9.99Get it as soon as Tuesday, May 28In StockSold by FILOTO and ships from Amazon Fulfillment.Total price:To see our price, add these items to your cart.Try again! Details Added to CartspCSRF_Control Add all 3 to Cart  These items are shipped from and sold by different sellers.  Show details  Hide details  Choose items to buy together.', 'Sony WH-1000XM5 The Best Wireless Noise Canceling Headphones with Auto Noise Canceling Optimizer, Crystal Clear Hands-Free Calling, and Alexa Voice Control, Black', '4.4', 'Brand   Sony     Model Name   WH1000XM5     Color   Black     Form Factor   Over Ear     Connectivity Technology   Bluetooth')\n"
     ]
    }
   ],
   "source": [
    "#Test\n",
    "url = 'https://www.amazon.com/Sony-WH-1000XM5-Canceling-Headphones-Hands-Free/dp/B09XS7JWHH?ref=dlx_deals_dg_dcl_B09XS7JWHH_dt_sl14_b8'\n",
    "print(await scrapeAmazon(url))"
   ]
  },
  {
   "cell_type": "markdown",
   "metadata": {},
   "source": []
  }
 ],
 "metadata": {
  "kernelspec": {
   "display_name": "Python 3",
   "language": "python",
   "name": "python3"
  },
  "language_info": {
   "codemirror_mode": {
    "name": "ipython",
    "version": 3
   },
   "file_extension": ".py",
   "mimetype": "text/x-python",
   "name": "python",
   "nbconvert_exporter": "python",
   "pygments_lexer": "ipython3",
   "version": "3.8.5"
  }
 },
 "nbformat": 4,
 "nbformat_minor": 2
}
