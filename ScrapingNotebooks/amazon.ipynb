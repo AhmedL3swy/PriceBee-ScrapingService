{
 "cells": [
  {
   "cell_type": "code",
   "execution_count": 13,
   "metadata": {},
   "outputs": [],
   "source": [
    "#Dependencies\n",
    "from bs4 import BeautifulSoup\n",
    "import requests"
   ]
  },
  {
   "cell_type": "code",
   "execution_count": 49,
   "metadata": {},
   "outputs": [],
   "source": [
    "#Functions\n",
    "async def scrapeAmazon(url):\n",
    "    response = requests.get(url)\n",
    "    soup = BeautifulSoup(response.content, 'html.parser')\n",
    "    #Data\n",
    "    price = soup.select_one('span.a-offscreen').get_text().strip()\n",
    "    title = soup.select_one('span.a-size-large').get_text().strip()\n",
    "    rating = soup.select_one('#averageCustomerReviews_feature_div span.a-color-base').get_text().strip()\n",
    "    discription = soup.select_one('.a-spacing-mini span.a-list-item').get_text().strip()\n",
    "    return  price,title, rating , discription"
   ]
  },
  {
   "cell_type": "code",
   "execution_count": 50,
   "metadata": {},
   "outputs": [
    {
     "name": "stdout",
     "output_type": "stream",
     "text": [
      "['https://m.media-amazon.com/images/I/61TOWf11+jL._AC_SX342_.jpg', 'https://m.media-amazon.com/images/I/61TOWf11+jL._AC_SX679_.jpg', 'https://m.media-amazon.com/images/I/61TOWf11+jL._AC_SX522_.jpg', 'https://m.media-amazon.com/images/I/61TOWf11+jL._AC_SX385_.jpg', 'https://m.media-amazon.com/images/I/61TOWf11+jL._AC_SX569_.jpg', 'https://m.media-amazon.com/images/I/61TOWf11+jL._AC_SX466_.jpg', 'https://m.media-amazon.com/images/I/61TOWf11+jL._AC_SX425_.jpg']\n"
     ]
    }
   ],
   "source": [
    "#Test\n",
    "url = 'https://www.amazon.com/TracFone-iPhone-SE-5G-Black/dp/B09VY7RXJ9/ref=sr_1_3?dib=eyJ2IjoiMSJ9.uP0-pRQYpyToXbuw9BMlEIAnrN-8KFFPs7XVtTP_p6IkIJABmAx-240Fez73xMDyRKLf06wB8AR3lj9ZPBEUspKb8Y0eHgxyKioF7vBIbKtTcpKFl1abQmtgcMr_9t1bBuLtrcNxSs3UyRxSY0BOO0m5fI095hS3ed5-scR44OiVtO-LYBiAhOZF5UE7fsX04VVaZWZM42CAHOxBelFlGYRF9hzRkSsQ38JsGDNn3e8.cYFa2nxzEpe-sBBXnU3CbbiTgEJlmhfSqg6TPhDc9vM&dib_tag=se&keywords=iphone+15&qid=1714667041&sr=8-3'\n",
    "print(await scrapeAmazon(url))"
   ]
  },
  {
   "cell_type": "markdown",
   "metadata": {},
   "source": []
  }
 ],
 "metadata": {
  "kernelspec": {
   "display_name": "Python 3",
   "language": "python",
   "name": "python3"
  },
  "language_info": {
   "codemirror_mode": {
    "name": "ipython",
    "version": 3
   },
   "file_extension": ".py",
   "mimetype": "text/x-python",
   "name": "python",
   "nbconvert_exporter": "python",
   "pygments_lexer": "ipython3",
   "version": "3.8.5"
  }
 },
 "nbformat": 4,
 "nbformat_minor": 2
}
