{
 "cells": [
  {
   "cell_type": "code",
   "execution_count": 9,
   "metadata": {},
   "outputs": [
    {
     "name": "stdout",
     "output_type": "stream",
     "text": [
      "name_global: Apple iPhone 15 Pro ، A3104 ، APPLE ، A17 Pro ، Nano SIM ، IP68 ، إصدار CN ، علامة تجارية جديدة ونشطة ، أصلية ، منتجات أصلية\n",
      "isAvailable: True\n",
      "price: 50149.57EGP\n",
      "rating: 0.0\n",
      "description: اسم العلامة التجارية:Apple, نموذج وحدة المعالجة المركزية:APPLE, عرض الحجم:6.6, دقة شاشة العرض:2556x1179, معدل تحديث الشاشة:120Hz, Touch Screen:نعم, مواد الشاشة:OLED, Screen Type:كامل الشاشة, حجم الكاميرا الخلفية:3, كمية الكاميرا الأمامية:1, دقة الكاميرا الخلفية:12 ميجا بكسل,48 ميجا بكسل, بكسل الكاميرا الأمامية:12 ميجا بكسل, Battery Capacity(mAh):3200, Battery Type:غير قابل للانفصال, الشحن اللاسلكي:YES, الشحن السريع:USB-PD, طاقة الشحن:أخرى, نوع واجهة الشحن:TYPE-C, منفذ سماعة رأس 3.5 ملم:no, نوع بطاقة الذاكرة:غير معتمدة, SIM عدد بطاقة:2 بطاقتين شريحة SIM, IP68/IP69K:YES, نظام التشغيل:IOS, الجوال:5 G, NFC:YES, نسخة البلوتوث:YSE, واي فاي:YES, المدمج في GPS:YES, الميزات الأخرى:البصرية الاستقرار,صورة الهاتف,5G الهاتف المحمول,سريع شحن الهاتف, تكنولوجيا القياسات الحيوية:التعرف على الوجه, معيار نقل واي فاي القياسية:802.11ax, تصميم:BAR, نطاق سعة البطارية:3000-3500MAh, فيديو قرار تسجيل:4K (2160p) 30 fps,4K (2160p) 60 fps, Origin:CN (المنشأ), شهادة:CE, حالة الصنف:New, نموذج أبل:iPhone 15 Pro, اللغة:english,روسيا,الألمانية,French,إسبانية,POLISH,البرتغالية,ITALIAN,Turkish,Norwegian,كوري,ياباني,العربية\n",
      "images: ['https://ae01.alicdn.com/kf/S98e77c658c5b49828a14c3cdd075eb76S/Apple-iPhone-15-Pro-A3104-APPLE-A17-Pro-Nano-SIM-IP68-CN.png', 'https://ae01.alicdn.com/kf/S7fd4c9dc78df49559248bece1647335c7/Apple-iPhone-15-Pro-A3104-APPLE-A17-Pro-Nano-SIM-IP68-CN.png', 'https://ae01.alicdn.com/kf/S6a96d337ef514436ad758a123ebe190dq/Apple-iPhone-15-Pro-A3104-APPLE-A17-Pro-Nano-SIM-IP68-CN.png', 'https://ae01.alicdn.com/kf/S6c14bb6e47d343f8b389f083a8998fcf6/Apple-iPhone-15-Pro-A3104-APPLE-A17-Pro-Nano-SIM-IP68-CN.png']\n"
     ]
    }
   ],
   "source": [
    "from utils import getStringBetweenTwoWords, extract_and_stringify_object , printJsonToFile\n",
    "from Product import ProductDetailDTO\n",
    "#Dependencies\n",
    "from bs4 import BeautifulSoup\n",
    "import requests\n",
    "import json\n",
    "\n",
    "async def scrape_aliexpress_full(url: str) -> dict:\n",
    "    response = requests.get(url)\n",
    "    soup = BeautifulSoup(response.content, 'html.parser')\n",
    "    script_tag = soup.find('script')\n",
    "    if script_tag:\n",
    "        script_content = script_tag.string\n",
    "        script_target_object= getStringBetweenTwoWords(script_content, 'window.runParams =', 'window.runParams.is23').replace(';', '')\n",
    "        script_target_object = script_target_object.replace('data', '\"data\"')\n",
    "        script_target_object = json.loads(script_target_object)\n",
    "        price = script_target_object['data']['metaDataComponent']['ogTitle'].split('|')[0].strip()\n",
    "        title = script_target_object['data']['metaDataComponent']['title'].split('|')[0].strip()\n",
    "        ImageList = script_target_object['data']['imageComponent']['imagePathList']\n",
    "        description = script_target_object['data']['productPropComponent']['propGroups']\n",
    "        attr_values = []\n",
    "    \n",
    "        for group in description:\n",
    "            for prop in group.get(\"props\", []):\n",
    "                attr_key = prop.get(\"attrName\", \"\").strip()\n",
    "                attr_value = prop.get(\"attrValue\", \"\").strip()\n",
    "                if attr_value:\n",
    "                    attr_values.append(attr_key+\":\"+attr_value)\n",
    "        \n",
    "        concatenated_description = ', '.join(attr_values)\n",
    "\n",
    "    item_data = ProductDetailDTO(name_Global=title, price=price,images=ImageList,productlink1=url,description_Global=concatenated_description)\n",
    "    return item_data\n",
    "\n",
    "url = 'https://www.aliexpress.com/item/1005006860843367.html?spm=a2g0o.productlist.main.1.4cbdDLvvDLvvt5&algo_pvid=7246bb87-519c-45f0-9096-37d5a5e6b81c&utparam-url=scene%3Asearch%7Cquery_from%3A&gatewayAdapt=glo2ara'\n",
    "x=await scrape_aliexpress_full(url)\n",
    "print(\"name_global:\",x.name_Global)\n",
    "print(\"isAvailable:\",x.is_available)    \n",
    "print(\"price:\",x.price)\n",
    "print(\"rating:\",x.rating)\n",
    "print(\"description:\",x.description_Global)\n",
    "print(\"images:\",x.images)\n",
    "\n",
    "\n"
   ]
  }
 ],
 "metadata": {
  "kernelspec": {
   "display_name": "Python 3",
   "language": "python",
   "name": "python3"
  },
  "language_info": {
   "codemirror_mode": {
    "name": "ipython",
    "version": 3
   },
   "file_extension": ".py",
   "mimetype": "text/x-python",
   "name": "python",
   "nbconvert_exporter": "python",
   "pygments_lexer": "ipython3",
   "version": "3.8.5"
  }
 },
 "nbformat": 4,
 "nbformat_minor": 2
}
