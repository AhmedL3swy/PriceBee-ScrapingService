{
 "cells": [
  {
   "cell_type": "code",
   "execution_count": 1,
   "metadata": {},
   "outputs": [],
   "source": [
    "#Dependencies\n",
    "from bs4 import BeautifulSoup\n",
    "import requests\n",
    "import json"
   ]
  },
  {
   "cell_type": "code",
   "execution_count": 10,
   "metadata": {},
   "outputs": [],
   "source": [
    "#utilts\n",
    "import os\n",
    "def printSoupToHtml(soup):\n",
    "    #Creating a file if not exist\n",
    "    if not os.path.exists('soup.html'):\n",
    "        with open('soup.html', 'w', encoding='utf-8') as file:\n",
    "            file.write('')\n",
    "    with open('soup.html', 'w', encoding='utf-8') as file:\n",
    "        file.write(str(soup))\n",
    "    return True\n",
    "def printSoupToJson(soup):\n",
    "    #Creating a file if not exist\n",
    "    if not os.path.exists('soup.json'):\n",
    "        with open('soup.json', 'w', encoding='utf-8') as file:\n",
    "            file.write('')\n",
    "    with open('soup.json', 'w', encoding='utf-8') as file:\n",
    "        file.write(json.dumps(soup))\n",
    "    return True"
   ]
  },
  {
   "cell_type": "code",
   "execution_count": 19,
   "metadata": {},
   "outputs": [],
   "source": [
    "#Functions\n",
    "def getStringBetweenTwoWords(string, first, last):\n",
    "    try:\n",
    "        start = string.index(first) + len(first)\n",
    "        end = string.index(last, start)\n",
    "        return string[start:end]\n",
    "    except ValueError:\n",
    "        return \"\"\n",
    "\n",
    "async def scrapeAliExpress(url):\n",
    "    response = requests.get(url)\n",
    "    soup = BeautifulSoup(response.content, 'html.parser')\n",
    "    #printSoupToHtml(soup)\n",
    "\n",
    "    # Assuming 'soup' is the BeautifulSoup object containing the parsed HTML\n",
    "\n",
    "    # Find the <script> tag containing ACC.config.productDetails\n",
    "    script_tag = soup.find('script')\n",
    "\n",
    "    if script_tag:\n",
    "        # Extract the JavaScript content from the <script> tag\n",
    "        script_content = script_tag.string\n",
    "        script_target_object= getStringBetweenTwoWords(script_content, 'window.runParams =', 'window.runParams.is23').replace(';', '')\n",
    "        script_target_object = script_target_object.replace('data', '\"data\"')\n",
    "        # convert the JavaScript object to a Python dictionary\n",
    "        script_target_object = json.loads(script_target_object)\n",
    "        \n",
    "        # Extract price and title from the parsed dictionary\n",
    "        price = script_target_object['data']['metaDataComponent']['ogTitle'].split('|')[0].strip()\n",
    "        title = script_target_object['data']['metaDataComponent']['title'].split('|')[0].strip()\n",
    "        printSoupToJson(script_target_object['data']['imageComponent']['imagePathList'])\n",
    "        ImageList = script_target_object['data']['imageComponent']['imagePathList']\n",
    "        # Display the extracted price and title\n",
    "        print(\"Price:\", price)\n",
    "        print(\"Title:\", title)\n",
    "        print(\"ImageList:\", ImageList)\n"
   ]
  },
  {
   "cell_type": "code",
   "execution_count": 20,
   "metadata": {},
   "outputs": [
    {
     "name": "stdout",
     "output_type": "stream",
     "text": [
      "Price: 50998.4EGP\n",
      "Title: Apple iPhone 15 Pro ، A3104 ، APPLE ، A17 Pro ، Nano SIM ، IP68 ، إصدار CN ، علامة تجارية جديدة ونشطة ، أصلية ، منتجات أصلية\n"
     ]
    }
   ],
   "source": [
    "\n",
    "url = 'https://ar.aliexpress.com/item/1005006860843367.html?spm=a2g0o.productlist.main.1.4cbdDLvvDLvvt5&algo_pvid=7246bb87-519c-45f0-9096-37d5a5e6b81c&utparam-url=scene%3Asearch%7Cquery_from%3A'\n",
    "await scrapeAliExpress(url)"
   ]
  }
 ],
 "metadata": {
  "kernelspec": {
   "display_name": "Python 3",
   "language": "python",
   "name": "python3"
  },
  "language_info": {
   "codemirror_mode": {
    "name": "ipython",
    "version": 3
   },
   "file_extension": ".py",
   "mimetype": "text/x-python",
   "name": "python",
   "nbconvert_exporter": "python",
   "pygments_lexer": "ipython3",
   "version": "3.8.5"
  }
 },
 "nbformat": 4,
 "nbformat_minor": 2
}
