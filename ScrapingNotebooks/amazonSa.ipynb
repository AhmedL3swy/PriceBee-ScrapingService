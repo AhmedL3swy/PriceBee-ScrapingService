{
 "cells": [
  {
   "cell_type": "code",
   "execution_count": 9,
   "metadata": {},
   "outputs": [],
   "source": [
    "#Dependencies\n",
    "from bs4 import BeautifulSoup\n",
    "from requests_html import AsyncHTMLSession\n"
   ]
  },
  {
   "cell_type": "code",
   "execution_count": 10,
   "metadata": {},
   "outputs": [],
   "source": [
    "import os,json\n",
    "def printSoupToHtml(soup, filename='soup.html'):\n",
    "    # Creating a file if not exist\n",
    "    if not os.path.exists(filename):\n",
    "        with open(filename, 'w', encoding='utf-8') as file:\n",
    "            file.write('')\n",
    "    with open(filename, 'w', encoding='utf-8') as file:\n",
    "        file.write(str(soup))\n",
    "    return True\n",
    "\n",
    "def printSoupToJson(soup, filename='soup.json'):\n",
    "    # Creating a file if not exist\n",
    "    if not os.path.exists(filename):\n",
    "        with open(filename, 'w', encoding='utf-8') as file:\n",
    "            file.write('')\n",
    "    with open(filename, 'w', encoding='utf-8') as file:\n",
    "        file.write(json.dumps(soup))\n",
    "    return True"
   ]
  },
  {
   "cell_type": "code",
   "execution_count": 13,
   "metadata": {},
   "outputs": [],
   "source": [
    "#Functions\n",
    "async def scrapeAmazonSa(url):\n",
    "    asession = AsyncHTMLSession()\n",
    "    #attach random user agent and proxy\n",
    "    asession=AsyncHTMLSession(\n",
    "        mock_browser=True,\n",
    "    )\n",
    "    response = await asession.get(url)\n",
    "    soup = BeautifulSoup(response.content, 'html.parser')\n",
    "   # printSoupToHtml(soup,\"amazonSa.html\")\n",
    "    #Data\n",
    "    price = soup.select_one('.aok-align-center span.a-price-whole').get_text().split(\".\")[0]\n",
    "    title = soup.select_one('span.product-title-word-break').get_text().strip()\n",
    "    rating = soup.select_one('#averageCustomerReviews_feature_div span.a-color-base').get_text().strip()\n",
    "    discription = soup.select_one('ul.a-spacing-mini').get_text().strip()\n",
    "    print (price, title, rating , discription)\n",
    "    return  price, title, rating , discription"
   ]
  },
  {
   "cell_type": "code",
   "execution_count": 12,
   "metadata": {},
   "outputs": [],
   "source": [
    "# #Functions\n",
    "# async def scrapeAmazonSa(url , attempt=0):\n",
    "#     try:\n",
    "#         if attempt >= 100:\n",
    "#             # Max retry attempts reached, return empty result or handle accordingly\n",
    "#             return {\"images\": []}\n",
    "\n",
    "#         asession = AsyncHTMLSession(mock_browser=True)\n",
    "#         response = await asession.get(url)\n",
    "#         soup = BeautifulSoup(response.content, 'html.parser')\n",
    "#         result = soup.select(\"#imageBlock img\")\n",
    "        \n",
    "#         for img in result:\n",
    "#             if 'data-a-dynamic-image' in img.attrs:\n",
    "#                 dynamic_images = eval(img['data-a-dynamic-image'])\n",
    "#                 images=(list(dynamic_images.keys()))\n",
    "#         item_data = {\n",
    "#             \"images\": images\n",
    "#         }\n",
    "#         return item_data\n",
    "    \n",
    "#     except Exception as e:\n",
    "#         # Retry recursively with incremented attempt count\n",
    "#         print(f\"Error occurred on attempt {attempt + 1}: {e}\")\n",
    "#         return await scrapeAmazonSa(url, attempt + 1)       "
   ]
  },
  {
   "cell_type": "code",
   "execution_count": 14,
   "metadata": {},
   "outputs": [
    {
     "name": "stdout",
     "output_type": "stream",
     "text": [
      "3,999 لابتوب اتش بي بافليون x360 2 في 1 14-ek1001nx، شاشة 14 بوصة FHD تعمل باللمس، انتل كور i7-1355U (جيل 13)، رسومات انتل ايريس Xe وRAM 16 جيجابايت، SSD سعة 1 تيرابايت، ويندوز 11 هوم، فضي طبيعي - 8F1L6EA 3.6 【شاشة لمس FHD بتقنية IPS】 شاهد المحتوى الخاص بك بأفضل عرض وبجودة صورة نابضة بالحياة مع زاوية رؤية واسعة تصل إلى 178 درجة. مع تكنولوجيا الشاشة العاملة باللمس، يمكنك التحكم في جهاز الكمبيوتر من خلال الشاشة    【كيبورد بإضاءة خلفية】استمر في العمل حتى في الغرف ذات الإضاءة الخافتة أو على متن الرحلات الليلية. يمكنك مع الكيبورد المضيئة الكتابة بشكل مريح في مختلف البيئات.    【خالية من الوميض】كما أن استخدام تقنية تعتيم التيار المستمر التي تتحكم في السطوع عن طريق ضبط التيار المباشر بدلًا من تشغيل الضوء الخلفي تمكننا من التخلص من وميض الشاشة من أجل الاستمتاع برؤية مريحة أكثر.    【شحن سريع من اتش بي】عندما تنخفض طاقة اللابتوب، فلا أحد لديه الوقت للانتظار لساعات لإعادة الشحن. قم بإيقاف تشغيل الجهاز وانتقل من 0 إلى 50٪ شحن في حوالي 45 دقيقة    【كاميرا اتش بي ترو فيجن بدقة 5 ميجابكسل】تتيح لك الكاميرا عالية الجودة إجراء محادثة فيديو مع العائلة بأكملها بتفاصيل مذهلة، بدقة تصل إلى 2592×1944.    【تقنية اتش بي امج باد مع إيماءات لمس متعددة】تدعم لوحة اللمس الحقيقية إيماءات الأصابع الأربعة وتتيح لك التمرير والتكبير والتصغير والتنقل بلمسة بسيطة.    【تحتوي أغطية مفاتيح لوحة المفاتيح على بلاستيك معاد تدويره بعد الاستهلاك】نقدم تصميمًا أكثر استدامة للوحة المفاتيح الخاصة بنا باستخدام أغطية المفاتيح المصنوعة من البلاستيك المعاد تدويره بعد الاستهلاك.\n"
     ]
    },
    {
     "data": {
      "text/plain": [
       "('3,999',\n",
       " 'لابتوب اتش بي بافليون x360 2 في 1 14-ek1001nx، شاشة 14 بوصة FHD تعمل باللمس، انتل كور i7-1355U (جيل 13)، رسومات انتل ايريس Xe وRAM 16 جيجابايت، SSD سعة 1 تيرابايت، ويندوز 11 هوم، فضي طبيعي - 8F1L6EA',\n",
       " '3.6',\n",
       " '【شاشة لمس FHD بتقنية IPS】 شاهد المحتوى الخاص بك بأفضل عرض وبجودة صورة نابضة بالحياة مع زاوية رؤية واسعة تصل إلى 178 درجة. مع تكنولوجيا الشاشة العاملة باللمس، يمكنك التحكم في جهاز الكمبيوتر من خلال الشاشة    【كيبورد بإضاءة خلفية】استمر في العمل حتى في الغرف ذات الإضاءة الخافتة أو على متن الرحلات الليلية. يمكنك مع الكيبورد المضيئة الكتابة بشكل مريح في مختلف البيئات.    【خالية من الوميض】كما أن استخدام تقنية تعتيم التيار المستمر التي تتحكم في السطوع عن طريق ضبط التيار المباشر بدلًا من تشغيل الضوء الخلفي تمكننا من التخلص من وميض الشاشة من أجل الاستمتاع برؤية مريحة أكثر.    【شحن سريع من اتش بي】عندما تنخفض طاقة اللابتوب، فلا أحد لديه الوقت للانتظار لساعات لإعادة الشحن. قم بإيقاف تشغيل الجهاز وانتقل من 0 إلى 50٪ شحن في حوالي 45 دقيقة    【كاميرا اتش بي ترو فيجن بدقة 5 ميجابكسل】تتيح لك الكاميرا عالية الجودة إجراء محادثة فيديو مع العائلة بأكملها بتفاصيل مذهلة، بدقة تصل إلى 2592×1944.    【تقنية اتش بي امج باد مع إيماءات لمس متعددة】تدعم لوحة اللمس الحقيقية إيماءات الأصابع الأربعة وتتيح لك التمرير والتكبير والتصغير والتنقل بلمسة بسيطة.    【تحتوي أغطية مفاتيح لوحة المفاتيح على بلاستيك معاد تدويره بعد الاستهلاك】نقدم تصميمًا أكثر استدامة للوحة المفاتيح الخاصة بنا باستخدام أغطية المفاتيح المصنوعة من البلاستيك المعاد تدويره بعد الاستهلاك.')"
      ]
     },
     "execution_count": 14,
     "metadata": {},
     "output_type": "execute_result"
    }
   ],
   "source": [
    "#Test\n",
    "import time\n",
    "url = 'https://www.amazon.sa/%D8%A7%D8%AA%D8%B4-%D8%A8%D9%8A-14-ek1001nx%D8%8C-%D8%AC%D9%8A%D8%AC%D8%A7%D8%A8%D8%A7%D9%8A%D8%AA%D8%8C-%D8%AA%D9%8A%D8%B1%D8%A7%D8%A8%D8%A7%D9%8A%D8%AA%D8%8C/dp/B0CM383CTZ/ref=sr_1_3?refinements=p_n_feature_fifteen_browse-bin%3A16969389031&s=electronics&sr=1-3'\n",
    "success = False\n",
    "await scrapeAmazonSa(url)\n"
   ]
  }
 ],
 "metadata": {
  "kernelspec": {
   "display_name": "Python 3",
   "language": "python",
   "name": "python3"
  },
  "language_info": {
   "codemirror_mode": {
    "name": "ipython",
    "version": 3
   },
   "file_extension": ".py",
   "mimetype": "text/x-python",
   "name": "python",
   "nbconvert_exporter": "python",
   "pygments_lexer": "ipython3",
   "version": "3.8.5"
  }
 },
 "nbformat": 4,
 "nbformat_minor": 2
}
