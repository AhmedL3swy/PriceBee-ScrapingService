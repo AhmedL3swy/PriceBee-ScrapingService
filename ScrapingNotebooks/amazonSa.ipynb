{
 "cells": [
  {
   "cell_type": "code",
   "execution_count": 2,
   "metadata": {},
   "outputs": [],
   "source": [
    "#Dependencies\n",
    "from bs4 import BeautifulSoup\n",
    "from requests_html import AsyncHTMLSession\n"
   ]
  },
  {
   "cell_type": "code",
   "execution_count": 3,
   "metadata": {},
   "outputs": [],
   "source": [
    "import os,json\n",
    "def printSoupToHtml(soup, filename='soup.html'):\n",
    "    # Creating a file if not exist\n",
    "    if not os.path.exists(filename):\n",
    "        with open(filename, 'w', encoding='utf-8') as file:\n",
    "            file.write('')\n",
    "    with open(filename, 'w', encoding='utf-8') as file:\n",
    "        file.write(str(soup))\n",
    "    return True\n",
    "\n",
    "def printSoupToJson(soup, filename='soup.json'):\n",
    "    # Creating a file if not exist\n",
    "    if not os.path.exists(filename):\n",
    "        with open(filename, 'w', encoding='utf-8') as file:\n",
    "            file.write('')\n",
    "    with open(filename, 'w', encoding='utf-8') as file:\n",
    "        file.write(json.dumps(soup))\n",
    "    return True"
   ]
  },
  {
   "cell_type": "code",
   "execution_count": 73,
   "metadata": {},
   "outputs": [],
   "source": [
    "#Functions\n",
    "async def scrapeAmazonSa(url):\n",
    "    with open(\"amazonSa.html\", 'r', encoding='utf-8') as file:\n",
    "        soup = BeautifulSoup(file, 'html.parser')\n",
    "    # asession = AsyncHTMLSession()\n",
    "    # #attach random user agent and proxy\n",
    "    # asession=AsyncHTMLSession(\n",
    "    #     mock_browser=True,\n",
    "    # )\n",
    "    # response = await asession.get(url)\n",
    "    # soup = BeautifulSoup(response.content, 'html.parser')\n",
    "    #printSoupToHtml(soup,\"amazonEg.html\")\n",
    "    #read soup from file\n",
    "    \n",
    "    #Data\n",
    "    price = soup.select_one('.aok-align-center span.a-price-whole').get_text().split(\".\")[0]\n",
    "    title = soup.select_one('span.product-title-word-break').get_text().strip()\n",
    "    rating = soup.select_one('#averageCustomerReviews_feature_div span.a-color-base').get_text().strip()\n",
    "    discription = soup.select_one('ul.a-spacing-mini').get_text().strip()\n",
    "    #get all data from table where selector table.a-spacing-micro\n",
    "    table = soup.select_one('table.a-normal.a-spacing-micro')\n",
    "    table_data = {}\n",
    "    if table:\n",
    "        for tr in table.select('tr'):\n",
    "            key = tr.select_one('td.a-span3 span.a-size-base.a-text-bold').get_text().strip()\n",
    "            value = tr.select_one('td.a-span9 span.a-size-base.po-break-word').get_text().strip()\n",
    "            table_data[key] = value\n",
    "    ## Concat table data into string\n",
    "    table_data = \"|\".join([f\"{key} : {value}\" for key, value in table_data.items()])\n",
    "    images = []\n",
    "    soup_images = soup.select(\"#imageBlock img\")\n",
    "    for i in soup_images:\n",
    "        if 'data-a-dynamic-image' in i.attrs:\n",
    "            images = eval(i['data-a-dynamic-image'])\n",
    "            images = list(images.keys())\n",
    "\n",
    "    return  price, title, rating , table_data ,images"
   ]
  },
  {
   "cell_type": "code",
   "execution_count": 74,
   "metadata": {},
   "outputs": [
    {
     "data": {
      "text/plain": [
       "('3,999',\n",
       " 'لابتوب اتش بي بافليون x360 2 في 1 14-ek1001nx، شاشة 14 بوصة FHD تعمل باللمس، انتل كور i7-1355U (جيل 13)، رسومات انتل ايريس Xe وRAM 16 جيجابايت، SSD سعة 1 تيرابايت، ويندوز 11 هوم، فضي طبيعي - 8F1L6EA',\n",
       " '3.6',\n",
       " 'العلامة التجارية : اتش بي|اسم الطراز : بافيليون x360|حجم الشاشة : 14 بوصة|اللون : فضي|حجم القرص الثابت : 1 تيرا بايت|طراز وحدة المعالجة المركزية : Intel Core i7-1355U|حجم ذاكرة Ram المثبت : 16 غيغابايت|أنظمة التشغيل : Windows 11 Home|ميزة خاصة : صوت HD, قارئ بصمات الأصابع, لوحة مفاتيح بإضاءة خلفية, يدعم القلم|وصف بطاقة الرسومات : مدمج',\n",
       " ['https://m.media-amazon.com/images/I/71vdMuZUW9L._AC_SX425_.jpg',\n",
       "  'https://m.media-amazon.com/images/I/71vdMuZUW9L._AC_SX522_.jpg',\n",
       "  'https://m.media-amazon.com/images/I/71vdMuZUW9L._AC_SX569_.jpg',\n",
       "  'https://m.media-amazon.com/images/I/71vdMuZUW9L._AC_SX355_.jpg',\n",
       "  'https://m.media-amazon.com/images/I/71vdMuZUW9L._AC_SX450_.jpg',\n",
       "  'https://m.media-amazon.com/images/I/71vdMuZUW9L._AC_SX466_.jpg',\n",
       "  'https://m.media-amazon.com/images/I/71vdMuZUW9L._AC_SX679_.jpg'])"
      ]
     },
     "execution_count": 74,
     "metadata": {},
     "output_type": "execute_result"
    }
   ],
   "source": [
    "#Test\n",
    "import time\n",
    "url = 'https://www.amazon.sa/%D8%A7%D8%AA%D8%B4-%D8%A8%D9%8A-14-ek1001nx%D8%8C-%D8%AC%D9%8A%D8%AC%D8%A7%D8%A8%D8%A7%D9%8A%D8%AA%D8%8C-%D8%AA%D9%8A%D8%B1%D8%A7%D8%A8%D8%A7%D9%8A%D8%AA%D8%8C/dp/B0CM383CTZ/ref=sr_1_3?refinements=p_n_feature_fifteen_browse-bin%3A16969389031&s=electronics&sr=1-3'\n",
    "#url ='https://www.amazon.eg/-/en/SAMSUNG-Android-Smartphone-Storage-Titanium/dp/B0CQZ22Q7L/ref=s9_acsd_al_ot_c2_x_3_t?_encoding=UTF8&pf_rd_t=   '\n",
    "success = False\n",
    "await scrapeAmazonSa(url)\n"
   ]
  },
  {
   "cell_type": "code",
   "execution_count": 5,
   "metadata": {},
   "outputs": [],
   "source": [
    "# #Functions\n",
    "# async def scrapeAmazonSa(url , attempt=0):\n",
    "#     try:\n",
    "#         if attempt >= 100:\n",
    "#             # Max retry attempts reached, return empty result or handle accordingly\n",
    "#             return {\"images\": []}\n",
    "\n",
    "#         asession = AsyncHTMLSession(mock_browser=True)\n",
    "#         response = await asession.get(url)\n",
    "#         soup = BeautifulSoup(response.content, 'html.parser')\n",
    "#         result = soup.select(\"#imageBlock img\")\n",
    "        \n",
    "#         for img in result:\n",
    "#             if 'data-a-dynamic-image' in img.attrs:\n",
    "#                 dynamic_images = eval(img['data-a-dynamic-image'])\n",
    "#                 images=(list(dynamic_images.keys()))\n",
    "#         item_data = {\n",
    "#             \"images\": images\n",
    "#         }\n",
    "#         return item_data\n",
    "    \n",
    "#     except Exception as e:\n",
    "#         # Retry recursively with incremented attempt count\n",
    "#         print(f\"Error occurred on attempt {attempt + 1}: {e}\")\n",
    "#         return await scrapeAmazonSa(url, attempt + 1)       "
   ]
  }
 ],
 "metadata": {
  "kernelspec": {
   "display_name": "Python 3",
   "language": "python",
   "name": "python3"
  },
  "language_info": {
   "codemirror_mode": {
    "name": "ipython",
    "version": 3
   },
   "file_extension": ".py",
   "mimetype": "text/x-python",
   "name": "python",
   "nbconvert_exporter": "python",
   "pygments_lexer": "ipython3",
   "version": "3.8.5"
  }
 },
 "nbformat": 4,
 "nbformat_minor": 2
}
