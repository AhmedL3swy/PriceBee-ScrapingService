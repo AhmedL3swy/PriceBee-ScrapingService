{
 "cells": [
  {
   "cell_type": "code",
   "execution_count": 7,
   "metadata": {},
   "outputs": [
    {
     "name": "stdout",
     "output_type": "stream",
     "text": [
      "name_global: Apple iPhone 15 Plus, 5G, 6.7 inch, 128GB, Black\n",
      "name_local: ÃÈá ÃíÝæä 15 ÈáÓ¡ 5Ìí¡ 6.7 ÈæÕÉ¡ 128 ÌíÌÇ¡ ÃÓæÏ\n",
      "isAvailable: True\n",
      "price: 3699.319\n",
      "rating: 4.4\n",
      "description: MU083AH/A--Apple iPhone 15 Plus, 5G, 6.7 inch, Super Retina XDR Display, OLED,A16 Bionic chip, 128GB, Black, IOS 17, 12MP Ultra Wide +  48MP Wide  Rear Camera, 12 TrueDepth Front Camera, FACE ID\n",
      "Description_Local: ['äÙÇã ÇáÊÔÛíá:Âí Çæ ÃÓ 17', 'ãÏÎá ÈØÇÞÉ ÇáÐÇßÑÉ:ÛíÑ ãÊØÇÈÞ', 'ãÓÇÍÉ ÇáÐÇßÑÉ ÇáÚÔæÇÆíÉ (ÑÇã):ÛíÑ ãÊØÇÈÞ', 'Çááæä:ÃÓæÏ', 'ÔÈßÉ ÇáÇÊÕÇá:ÇáÌíá ÇáÎÇãÓ', 'ÍÌã ÇáÔÇÔÉ(ÈÇáÈæÕÉ):6.7', 'ßÇãíÑÇ ÎáÝíÉ:48MP + 12MP', 'ÐÇßÑÉ / ÏÇÎáíÉ:128ÌíÌÇÈíÊ', 'ÇáØæá:ÛíÑ ãÊØÇÈÞ', 'ÇáæÒä:Not Applicable', 'ÕäÚ Ýì:ãÊäæÚ', 'äæÇÉ ÇáãÚÇáÌ:Åíå 16 Èíæäß', 'ÍÌã ÇáÈØÇÑíÉ (ãááí ÃãÈíÑ):ÛíÑ ãÊØÇÈÞ', 'ÏÞÉ ÇáßÇãíÑÇ ÇáÃãÇãíÉ:12ãíÌÇÈßÓá', 'ãÞÇæã ááãÇÁ:äÚã', 'ãÇÓÍ ÇáÈÕãÉ(äÚã/áÇ):áÇ', 'ÇÓã ÇáÓáÓáÉ:ÂíÝæä 15', 'ÇáÚÑÖ:ÛíÑ ãÊØÇÈÞ', 'ÇáÇÑÊÝÇÚ:ÛíÑ ãÊØÇÈÞ', 'ÇáÑÄíÇ ãä ÎáÇá ÇáÛØÇÁ:ÛíÑ ãÊØÇÈÞ', 'ÓÑÚÉ ÇáãÚÇáÌ:ÛíÑ ãÊØÇÈÞ', 'äæÚ ÇáÔÇÔÉ:ÓæÈÑ ÑíÊäÇ ÅßÓ Ïí ÂÑ', 'ãÚÑÝ ÇáæÌå:äÚã', 'ÇÓã ÇáãÇÑßÉ:ÃÈá', 'äæÚ ÇáÌåÇÒ:ÂíÝæä 15 ÈáÓ', 'ÏÞÉ ÇáÔÇÔÉ:ÛíÑ ãÊØÇÈÞ', 'ÎÇÕíÉ ÇáÇÊÕÇá Åä ÅÝ Óí:ÛíÑ ãÊØÇÈÞ', 'ÔÇÔÉ ãÑäÉ:ÛíÑ ãÊØÇÈÞ', 'äæÚ ÇáÔÑíÍÉ:ÔÑíÍÉ äÇäæ', 'ÊæÇÝÞ ÇáÔÍä:íæ ÅÓ Èí äæÚ Óí', 'ÇáÔÍä ÇááÇÓáßí:äÚã', 'ãÔÇÑßÉ ÇáØÇÞÉ:ÛíÑ ãÊØÇÈÞ']\n",
      "images: ['https://media.extra.com/i/aurora/100345666_100_01', 'https://media.extra.com/i/aurora/100345666_100_02', 'https://media.extra.com/i/aurora/100345666_100_03', 'https://media.extra.com/i/aurora/100345666_100_04', 'https://media.extra.com/i/aurora/100345666_100_05']\n"
     ]
    }
   ],
   "source": [
    "#Dependencies\n",
    "from bs4 import BeautifulSoup\n",
    "import requests\n",
    "import json\n",
    "from utils import getStringBetweenTwoWords, extract_and_stringify_object , printJsonToFile,printSoupToHtml\n",
    "from Product import ProductDetailDTO\n",
    "\n",
    "async def scrape_extra_full(url):\n",
    "    #change request from en-sa to ar-sa\n",
    "    if url.find(\"/en-sa/\")!=-1:\n",
    "        url=url.replace(\"/en-sa/\",\"/ar-sa/\")\n",
    "    response = requests.get(url)\n",
    "    soup = BeautifulSoup(response.content, 'html.parser')\n",
    "    #printSoupToHtml(soup.prettify(),'extra.html')\n",
    "\n",
    "    # Find the <script> tag containing ACC.config.productDetails\n",
    "    script_tag = soup.find('script', {'type': 'text/javascript'})\n",
    "\n",
    "    if script_tag:\n",
    "        # Extract the JavaScript content from the <script> tag\n",
    "        script_content = script_tag.string\n",
    "        \n",
    "        # Locate and extract the ACC.config.productDetails object\n",
    "        start_index = script_content.find('ACC.config.productDetails')\n",
    "        stop_index = script_content.find('ACC.config.currentCity')\n",
    "\n",
    "        \n",
    "        if start_index != -1 and stop_index != -1:\n",
    "            product_details = script_content[start_index:stop_index]\n",
    "            product_details = product_details.replace('ACC.config.productDetails = ', '').strip()\n",
    "            product_details = product_details[:-1]\n",
    "            product_details = json.loads(product_details)\n",
    "            #printJsonToFile(product_details,'extra.json')\n",
    "            product_details = json.loads(open('extra.json').read())\n",
    "            name_global = product_details.get('nameEn', 'N/A')\n",
    "            name_local = product_details.get('displayName', 'N/A')\n",
    "            isAvailable = product_details.get('stock', {}).get('stockLevel', 'N/A')>0\n",
    "            total_price = product_details.get('price', {}).get('formattedValue', 'N/A')\n",
    "            discount = product_details.get('percentageDiscount', {}).get('value', 'N/A')\n",
    "            PriceAfterDiscount = float(total_price) - (float(total_price) * discount / 100)\n",
    "            description = product_details.get('descriptionEn', 'N/A')\n",
    "            description_local = product_details.get('summary', 'N/A')\n",
    "            rating = product_details.get('rating', 'N/A')\n",
    "            image= product_details.get('highlights')\n",
    "            soup = BeautifulSoup(image, 'html.parser')\n",
    "            p=url.split(\"/p/\")[1].split(\"/\")[0]\n",
    "            images = [f\"https://media.extra.com/i/aurora/{p}_100_0{i}\" for i in range(1,6)]\n",
    "            result = []\n",
    "            for classification in product_details.get(\"classifications\", []):\n",
    "                for feature in classification.get(\"features\", []):\n",
    "                    name = feature.get(\"name\")\n",
    "                    value = feature.get(\"featureValues\", [{}])[0].get(\"value\")\n",
    "                    if name and value:\n",
    "                        result.append(f\"{name}:{value}\")\n",
    "            item_data = ProductDetailDTO(name_Global=name_global,name_Local=name_local,is_available=isAvailable,description_Local=result, price=PriceAfterDiscount, rating=rating, description_Global=description,images=images,productlink1=url)\n",
    "            return item_data\n",
    "#x=await scrape_extra_full('https://www.extra.com/ar-sa/mobiles-tablets/mobiles/smartphone/samsung-galaxy-z-fold-5-5g-512gb-icy-blue/p/100343500')   \n",
    "url=\"https://www.extra.com/en-sa/mobiles-tablets/mobiles/smartphone/apple-iphone-15-plus-5g-6-7-inch-128gb-black/p/100345666\"\n",
    "x=await scrape_extra_full(url)\n",
    "print(\"name_global:\",x.name_Global)\n",
    "print(\"name_local:\",x.name_Local)\n",
    "print(\"isAvailable:\",x.is_available)    \n",
    "print(\"price:\",x.price)\n",
    "print(\"rating:\",x.rating)\n",
    "print(\"description:\",x.description_Global)\n",
    "print(\"Description_Local:\",x.description_Local)\n",
    "print(\"images:\",x.images)\n",
    "\n",
    "\n"
   ]
  }
 ],
 "metadata": {
  "kernelspec": {
   "display_name": "Python 3",
   "language": "python",
   "name": "python3"
  },
  "language_info": {
   "codemirror_mode": {
    "name": "ipython",
    "version": 3
   },
   "file_extension": ".py",
   "mimetype": "text/x-python",
   "name": "python",
   "nbconvert_exporter": "python",
   "pygments_lexer": "ipython3",
   "version": "3.12.1"
  }
 },
 "nbformat": 4,
 "nbformat_minor": 2
}
