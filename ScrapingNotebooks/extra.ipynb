{
 "cells": [
  {
   "cell_type": "code",
   "execution_count": 47,
   "metadata": {},
   "outputs": [],
   "source": [
    "#Dependencies\n",
    "from bs4 import BeautifulSoup\n",
    "import requests\n",
    "import json\n"
   ]
  },
  {
   "cell_type": "code",
   "execution_count": 48,
   "metadata": {},
   "outputs": [],
   "source": [
    "#utilts\n",
    "import os\n",
    "def printSoupToHtml(soup):\n",
    "    #Creating a file if not exist\n",
    "    if not os.path.exists('soup.html'):\n",
    "        with open('soup.html', 'w', encoding='utf-8') as file:\n",
    "            file.write('')\n",
    "    with open('soup.html', 'w', encoding='utf-8') as file:\n",
    "        file.write(str(soup))\n",
    "    return True\n",
    "\n",
    "def printSoupToJson(soup):\n",
    "    #Creating a file if not exist\n",
    "    if not os.path.exists('soup.json'):\n",
    "        with open('soup.json', 'w', encoding='utf-8') as file:\n",
    "            file.write('')\n",
    "    with open('soup.json', 'w', encoding='utf-8') as file:\n",
    "        file.write(json.dumps(soup))\n",
    "    return True\n"
   ]
  },
  {
   "cell_type": "code",
   "execution_count": 60,
   "metadata": {},
   "outputs": [],
   "source": [
    "async def scrapeExtra(url):\n",
    "    response = requests.get(url)\n",
    "    soup = BeautifulSoup(response.content, 'html.parser')\n",
    "    printSoupToHtml(soup)\n",
    "\n",
    "    # Assuming 'soup' is the BeautifulSoup object containing the parsed HTML\n",
    "\n",
    "    # Find the <script> tag containing ACC.config.productDetails\n",
    "    script_tag = soup.find('script', {'type': 'text/javascript'})\n",
    "\n",
    "    if script_tag:\n",
    "        # Extract the JavaScript content from the <script> tag\n",
    "        script_content = script_tag.string\n",
    "        \n",
    "        # Locate and extract the ACC.config.productDetails object\n",
    "        start_index = script_content.find('ACC.config.productDetails')\n",
    "        stop_index = script_content.find('ACC.config.currentCity')\n",
    " \n",
    "        if start_index != -1 and stop_index != -1:\n",
    "            product_details = script_content[start_index:stop_index]\n",
    "            product_details = product_details.replace('ACC.config.productDetails = ', '').strip()\n",
    "            product_details = product_details[:-1]\n",
    "            product_details = json.loads(product_details)\n",
    "            #printSoupToJson(product_details)\n",
    "            #print(product_details)\n",
    "            name_local = product_details.get('name', 'N/A')\n",
    "            name_global = product_details.get('nameEn', 'N/A')\n",
    "            isAvailable = product_details.get('stock', {}).get('stockLevel', 'N/A')>0\n",
    "\n",
    "            total_price = product_details.get('price', {}).get('formattedValue', 'N/A')\n",
    "            discount = product_details.get('percentageDiscount', {}).get('value', 'N/A')\n",
    "            PriceAfterDiscount = float(total_price) - (float(total_price) * discount / 100)\n",
    "            description = product_details.get('descriptionEn', 'N/A')\n",
    "            #arabic description\n",
    "            rating = product_details.get('rating', 'N/A')\n",
    "            image= product_details.get('highlights')\n",
    "            soup = BeautifulSoup(image, 'html.parser')\n",
    "            image = soup.find_all('img')\n",
    "            images= [ img['src'] for img in image]\n",
    "              # Print or use the extracted data\n",
    "            print('name_local:', name_local)\n",
    "            print('name_global:', name_global)\n",
    "            print('isAvailable:', isAvailable)\n",
    "            print('Price:', PriceAfterDiscount)\n",
    "            print('Description:', description)\n",
    "            print('Rating:', rating)\n",
    "            print('Images:', images)\n",
    "            \n"
   ]
  },
  {
   "cell_type": "code",
   "execution_count": 61,
   "metadata": {},
   "outputs": [
    {
     "name": "stdout",
     "output_type": "stream",
     "text": [
      "name_local: سامسونج جالكسي زد فولد 5، ، 5 جي ، 512 جيجا، ازرق\n",
      "name_global: Samsung Galaxy Z Fold 5, 5G, 512GB, Icy Blue\n",
      "isAvailable: True\n",
      "Price: 5999.1092\n",
      "Description: SM-F946BLBGMEA--Samsung Galaxy Z Fold 5, 5G, 7.6-inch, Dynamic AMOLED 2X, Dual SIM, 512GB, Icy Blue, Snapdragon 8 Gen 2, Android 13, 12GB RAM, 50MP+12MP+10MP Rear Camera, 10MP+4MP Front Camera, 4400mAh Battery\n",
      "Rating: 4.3\n",
      "Images: ['https://aurora.a.bigcontent.io/v1/static/100343500_01', 'https://aurora.a.bigcontent.io/v1/static/100343500_02', 'https://aurora.a.bigcontent.io/v1/static/100343500_03', 'https://aurora.a.bigcontent.io/v1/static/100343500_04', 'https://aurora.a.bigcontent.io/v1/static/100343500_05', 'https://aurora.a.bigcontent.io/v1/static/100343500_06', 'https://aurora.a.bigcontent.io/v1/static/100343500_07', 'https://aurora.a.bigcontent.io/v1/static/100343500_08', 'https://aurora.a.bigcontent.io/v1/static/100343500_09', 'https://aurora.a.bigcontent.io/v1/static/100343500_10']\n",
      "None\n"
     ]
    }
   ],
   "source": [
    "#Test\n",
    "url = 'https://www.extra.com/ar-sa/mobiles-tablets/mobiles/smartphone/samsung-galaxy-z-fold-5-5g-512gb-icy-blue/p/100343500'\n",
    "print(await scrapeExtra(url))"
   ]
  },
  {
   "cell_type": "code",
   "execution_count": 63,
   "metadata": {},
   "outputs": [
    {
     "name": "stdout",
     "output_type": "stream",
     "text": [
      "{'error': 'Visit https://portal.libretranslate.com to get an API key'}\n"
     ]
    }
   ],
   "source": [
    "import requests\n",
    "\n",
    "# const res = await fetch(\"https://libretranslate.com/translate\", {\n",
    "#   method: \"POST\",\n",
    "#   body: JSON.stringify({\n",
    "#     q: \"Ciao!\",\n",
    "#     source: \"auto\",\n",
    "#     target: \"en\"\n",
    "#   }),\n",
    "#   headers: { \"Content-Type\": \"application/json\" }\n",
    "# });\n",
    "\n",
    "response = requests.post('https://libretranslate.com/translate', json={\n",
    "    'q': 'Ciao!',\n",
    "    'source': 'auto',\n",
    "    'target': 'en'\n",
    "})\n",
    "\n",
    "\n",
    "print(response.json())"
   ]
  }
 ],
 "metadata": {
  "kernelspec": {
   "display_name": "Python 3",
   "language": "python",
   "name": "python3"
  },
  "language_info": {
   "codemirror_mode": {
    "name": "ipython",
    "version": 3
   },
   "file_extension": ".py",
   "mimetype": "text/x-python",
   "name": "python",
   "nbconvert_exporter": "python",
   "pygments_lexer": "ipython3",
   "version": "3.8.5"
  }
 },
 "nbformat": 4,
 "nbformat_minor": 2
}
